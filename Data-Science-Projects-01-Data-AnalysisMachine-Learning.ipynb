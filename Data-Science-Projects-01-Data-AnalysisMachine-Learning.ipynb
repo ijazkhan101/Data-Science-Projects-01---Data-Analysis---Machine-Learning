{
 "cells": [
  {
   "cell_type": "code",
   "execution_count": 24,
   "metadata": {},
   "outputs": [],
   "source": [
    "#import Libraries \n",
    "import pandas as pd\n",
    "import matplotlib.pylab as plt "
   ]
  },
  {
   "cell_type": "code",
   "execution_count": 3,
   "metadata": {},
   "outputs": [
    {
     "data": {
      "text/html": [
       "<div>\n",
       "<style scoped>\n",
       "    .dataframe tbody tr th:only-of-type {\n",
       "        vertical-align: middle;\n",
       "    }\n",
       "\n",
       "    .dataframe tbody tr th {\n",
       "        vertical-align: top;\n",
       "    }\n",
       "\n",
       "    .dataframe thead th {\n",
       "        text-align: right;\n",
       "    }\n",
       "</style>\n",
       "<table border=\"1\" class=\"dataframe\">\n",
       "  <thead>\n",
       "    <tr style=\"text-align: right;\">\n",
       "      <th></th>\n",
       "      <th>Employee_Name</th>\n",
       "      <th>EmpID</th>\n",
       "      <th>MarriedID</th>\n",
       "      <th>MaritalStatusID</th>\n",
       "      <th>GenderID</th>\n",
       "      <th>EmpStatusID</th>\n",
       "      <th>DeptID</th>\n",
       "      <th>PerfScoreID</th>\n",
       "      <th>FromDiversityJobFairID</th>\n",
       "      <th>Salary</th>\n",
       "      <th>...</th>\n",
       "      <th>ManagerName</th>\n",
       "      <th>ManagerID</th>\n",
       "      <th>RecruitmentSource</th>\n",
       "      <th>PerformanceScore</th>\n",
       "      <th>EngagementSurvey</th>\n",
       "      <th>EmpSatisfaction</th>\n",
       "      <th>SpecialProjectsCount</th>\n",
       "      <th>LastPerformanceReview_Date</th>\n",
       "      <th>DaysLateLast30</th>\n",
       "      <th>Absences</th>\n",
       "    </tr>\n",
       "  </thead>\n",
       "  <tbody>\n",
       "    <tr>\n",
       "      <th>0</th>\n",
       "      <td>Adinolfi, Wilson  K</td>\n",
       "      <td>10026</td>\n",
       "      <td>0</td>\n",
       "      <td>0</td>\n",
       "      <td>1</td>\n",
       "      <td>1</td>\n",
       "      <td>5</td>\n",
       "      <td>4</td>\n",
       "      <td>0</td>\n",
       "      <td>62506</td>\n",
       "      <td>...</td>\n",
       "      <td>Michael Albert</td>\n",
       "      <td>22.0</td>\n",
       "      <td>LinkedIn</td>\n",
       "      <td>Exceeds</td>\n",
       "      <td>4.60</td>\n",
       "      <td>5</td>\n",
       "      <td>0</td>\n",
       "      <td>1/17/2019</td>\n",
       "      <td>0</td>\n",
       "      <td>1</td>\n",
       "    </tr>\n",
       "    <tr>\n",
       "      <th>1</th>\n",
       "      <td>Ait Sidi, Karthikeyan</td>\n",
       "      <td>10084</td>\n",
       "      <td>1</td>\n",
       "      <td>1</td>\n",
       "      <td>1</td>\n",
       "      <td>5</td>\n",
       "      <td>3</td>\n",
       "      <td>3</td>\n",
       "      <td>0</td>\n",
       "      <td>104437</td>\n",
       "      <td>...</td>\n",
       "      <td>Simon Roup</td>\n",
       "      <td>4.0</td>\n",
       "      <td>Indeed</td>\n",
       "      <td>Fully Meets</td>\n",
       "      <td>4.96</td>\n",
       "      <td>3</td>\n",
       "      <td>6</td>\n",
       "      <td>2/24/2016</td>\n",
       "      <td>0</td>\n",
       "      <td>17</td>\n",
       "    </tr>\n",
       "    <tr>\n",
       "      <th>2</th>\n",
       "      <td>Akinkuolie, Sarah</td>\n",
       "      <td>10196</td>\n",
       "      <td>1</td>\n",
       "      <td>1</td>\n",
       "      <td>0</td>\n",
       "      <td>5</td>\n",
       "      <td>5</td>\n",
       "      <td>3</td>\n",
       "      <td>0</td>\n",
       "      <td>64955</td>\n",
       "      <td>...</td>\n",
       "      <td>Kissy Sullivan</td>\n",
       "      <td>20.0</td>\n",
       "      <td>LinkedIn</td>\n",
       "      <td>Fully Meets</td>\n",
       "      <td>3.02</td>\n",
       "      <td>3</td>\n",
       "      <td>0</td>\n",
       "      <td>5/15/2012</td>\n",
       "      <td>0</td>\n",
       "      <td>3</td>\n",
       "    </tr>\n",
       "  </tbody>\n",
       "</table>\n",
       "<p>3 rows × 36 columns</p>\n",
       "</div>"
      ],
      "text/plain": [
       "              Employee_Name  EmpID  MarriedID  MaritalStatusID  GenderID  \\\n",
       "0       Adinolfi, Wilson  K  10026          0                0         1   \n",
       "1  Ait Sidi, Karthikeyan     10084          1                1         1   \n",
       "2         Akinkuolie, Sarah  10196          1                1         0   \n",
       "\n",
       "   EmpStatusID  DeptID  PerfScoreID  FromDiversityJobFairID  Salary  ...  \\\n",
       "0            1       5            4                       0   62506  ...   \n",
       "1            5       3            3                       0  104437  ...   \n",
       "2            5       5            3                       0   64955  ...   \n",
       "\n",
       "      ManagerName  ManagerID RecruitmentSource PerformanceScore  \\\n",
       "0  Michael Albert       22.0          LinkedIn          Exceeds   \n",
       "1      Simon Roup        4.0            Indeed      Fully Meets   \n",
       "2  Kissy Sullivan       20.0          LinkedIn      Fully Meets   \n",
       "\n",
       "   EngagementSurvey EmpSatisfaction SpecialProjectsCount  \\\n",
       "0              4.60               5                    0   \n",
       "1              4.96               3                    6   \n",
       "2              3.02               3                    0   \n",
       "\n",
       "  LastPerformanceReview_Date DaysLateLast30 Absences  \n",
       "0                  1/17/2019              0        1  \n",
       "1                  2/24/2016              0       17  \n",
       "2                  5/15/2012              0        3  \n",
       "\n",
       "[3 rows x 36 columns]"
      ]
     },
     "execution_count": 3,
     "metadata": {},
     "output_type": "execute_result"
    }
   ],
   "source": [
    "# read  data from csv\n",
    "data = pd.read_csv('DataSet.csv')\n",
    "data.head(3)"
   ]
  },
  {
   "cell_type": "code",
   "execution_count": 6,
   "metadata": {},
   "outputs": [
    {
     "data": {
      "text/plain": [
       "(311, 36)"
      ]
     },
     "execution_count": 6,
     "metadata": {},
     "output_type": "execute_result"
    }
   ],
   "source": [
    "data.shape"
   ]
  },
  {
   "cell_type": "code",
   "execution_count": 7,
   "metadata": {},
   "outputs": [
    {
     "data": {
      "text/plain": [
       "Index(['Employee_Name', 'EmpID', 'MarriedID', 'MaritalStatusID', 'GenderID',\n",
       "       'EmpStatusID', 'DeptID', 'PerfScoreID', 'FromDiversityJobFairID',\n",
       "       'Salary', 'Termd', 'PositionID', 'Position', 'State', 'Zip', 'DOB',\n",
       "       'Sex', 'MaritalDesc', 'CitizenDesc', 'HispanicLatino', 'RaceDesc',\n",
       "       'DateofHire', 'DateofTermination', 'TermReason', 'EmploymentStatus',\n",
       "       'Department', 'ManagerName', 'ManagerID', 'RecruitmentSource',\n",
       "       'PerformanceScore', 'EngagementSurvey', 'EmpSatisfaction',\n",
       "       'SpecialProjectsCount', 'LastPerformanceReview_Date', 'DaysLateLast30',\n",
       "       'Absences'],\n",
       "      dtype='object')"
      ]
     },
     "execution_count": 7,
     "metadata": {},
     "output_type": "execute_result"
    }
   ],
   "source": [
    "data.columns"
   ]
  },
  {
   "attachments": {},
   "cell_type": "markdown",
   "metadata": {},
   "source": [
    "### iloc  \n",
    "Purely integer-location based indexing for selection by position. .iloc[] is primarily integer position based (from 0 to length-1 of the axis),"
   ]
  },
  {
   "cell_type": "code",
   "execution_count": 11,
   "metadata": {},
   "outputs": [
    {
     "data": {
      "text/plain": [
       "Employee_Name                        King, Janet\n",
       "EmpID                                      10089\n",
       "MarriedID                                      1\n",
       "MaritalStatusID                                1\n",
       "GenderID                                       0\n",
       "EmpStatusID                                    1\n",
       "DeptID                                         2\n",
       "PerfScoreID                                    3\n",
       "FromDiversityJobFairID                         0\n",
       "Salary                                    250000\n",
       "Termd                                          0\n",
       "PositionID                                    16\n",
       "Position                         President & CEO\n",
       "State                                         MA\n",
       "Zip                                         1902\n",
       "DOB                                     09/21/54\n",
       "Sex                                            F\n",
       "MaritalDesc                              Married\n",
       "CitizenDesc                           US Citizen\n",
       "HispanicLatino                               Yes\n",
       "RaceDesc                                   White\n",
       "DateofHire                              7/2/2012\n",
       "DateofTermination                            NaN\n",
       "TermReason                     N/A-StillEmployed\n",
       "EmploymentStatus                          Active\n",
       "Department                      Executive Office\n",
       "ManagerName                   Board of Directors\n",
       "ManagerID                                    9.0\n",
       "RecruitmentSource                         Indeed\n",
       "PerformanceScore                     Fully Meets\n",
       "EngagementSurvey                            4.83\n",
       "EmpSatisfaction                                3\n",
       "SpecialProjectsCount                           0\n",
       "LastPerformanceReview_Date             1/17/2019\n",
       "DaysLateLast30                                 0\n",
       "Absences                                      10\n",
       "Name: 150, dtype: object"
      ]
     },
     "execution_count": 11,
     "metadata": {},
     "output_type": "execute_result"
    }
   ],
   "source": [
    "#The idxmax() method returns a Series with the index of the maximum value for each column.\n",
    "# find employe who high salary in dataset\n",
    "data.iloc[data['Salary'].idxmax()]"
   ]
  },
  {
   "cell_type": "code",
   "execution_count": 12,
   "metadata": {},
   "outputs": [
    {
     "data": {
      "text/plain": [
       "Employee_Name                           Zima, Colleen\n",
       "EmpID                                           10271\n",
       "MarriedID                                           0\n",
       "MaritalStatusID                                     4\n",
       "GenderID                                            0\n",
       "EmpStatusID                                         1\n",
       "DeptID                                              5\n",
       "PerfScoreID                                         3\n",
       "FromDiversityJobFairID                              0\n",
       "Salary                                          45046\n",
       "Termd                                               0\n",
       "PositionID                                         19\n",
       "Position                      Production Technician I\n",
       "State                                              MA\n",
       "Zip                                              1730\n",
       "DOB                                          08/17/78\n",
       "Sex                                                 F\n",
       "MaritalDesc                                   Widowed\n",
       "CitizenDesc                                US Citizen\n",
       "HispanicLatino                                     No\n",
       "RaceDesc                                        Asian\n",
       "DateofHire                                  9/29/2014\n",
       "DateofTermination                                 NaN\n",
       "TermReason                          N/A-StillEmployed\n",
       "EmploymentStatus                               Active\n",
       "Department                          Production       \n",
       "ManagerName                             David Stanley\n",
       "ManagerID                                        14.0\n",
       "RecruitmentSource                            LinkedIn\n",
       "PerformanceScore                          Fully Meets\n",
       "EngagementSurvey                                  4.5\n",
       "EmpSatisfaction                                     5\n",
       "SpecialProjectsCount                                0\n",
       "LastPerformanceReview_Date                  1/30/2019\n",
       "DaysLateLast30                                      0\n",
       "Absences                                            2\n",
       "Name: 310, dtype: object"
      ]
     },
     "execution_count": 12,
     "metadata": {},
     "output_type": "execute_result"
    }
   ],
   "source": [
    "# get employe who min salary in dataset\n",
    "data.iloc[data['Salary'].idxmin()]"
   ]
  },
  {
   "cell_type": "code",
   "execution_count": 15,
   "metadata": {},
   "outputs": [
    {
     "data": {
      "text/plain": [
       "Employee_Name                     Adinolfi, Wilson  K\n",
       "EmpID                                           10026\n",
       "MarriedID                                           0\n",
       "MaritalStatusID                                     0\n",
       "GenderID                                            1\n",
       "EmpStatusID                                         1\n",
       "DeptID                                              5\n",
       "PerfScoreID                                         4\n",
       "FromDiversityJobFairID                              0\n",
       "Salary                                          62506\n",
       "Termd                                               0\n",
       "PositionID                                         19\n",
       "Position                      Production Technician I\n",
       "State                                              MA\n",
       "Zip                                              1960\n",
       "DOB                                          07/10/83\n",
       "Sex                                                M \n",
       "MaritalDesc                                    Single\n",
       "CitizenDesc                                US Citizen\n",
       "HispanicLatino                                     No\n",
       "RaceDesc                                        White\n",
       "DateofHire                                   7/5/2011\n",
       "DateofTermination                                 NaN\n",
       "TermReason                          N/A-StillEmployed\n",
       "EmploymentStatus                               Active\n",
       "Department                          Production       \n",
       "ManagerName                            Michael Albert\n",
       "ManagerID                                        22.0\n",
       "RecruitmentSource                            LinkedIn\n",
       "PerformanceScore                              Exceeds\n",
       "EngagementSurvey                                  4.6\n",
       "EmpSatisfaction                                     5\n",
       "SpecialProjectsCount                                0\n",
       "LastPerformanceReview_Date                  1/17/2019\n",
       "DaysLateLast30                                      0\n",
       "Absences                                            1\n",
       "Name: 0, dtype: object"
      ]
     },
     "execution_count": 15,
     "metadata": {},
     "output_type": "execute_result"
    }
   ],
   "source": [
    "# get employe who have min Absences in dataset\n",
    "data.iloc[data['Absences'].idxmin()]"
   ]
  },
  {
   "cell_type": "code",
   "execution_count": 16,
   "metadata": {},
   "outputs": [
    {
     "data": {
      "text/plain": [
       "Employee_Name                           Bates, Norman\n",
       "EmpID                                           10061\n",
       "MarriedID                                           0\n",
       "MaritalStatusID                                     0\n",
       "GenderID                                            1\n",
       "EmpStatusID                                         4\n",
       "DeptID                                              5\n",
       "PerfScoreID                                         3\n",
       "FromDiversityJobFairID                              0\n",
       "Salary                                          57834\n",
       "Termd                                               1\n",
       "PositionID                                         19\n",
       "Position                      Production Technician I\n",
       "State                                              MA\n",
       "Zip                                              2050\n",
       "DOB                                          10/18/81\n",
       "Sex                                                M \n",
       "MaritalDesc                                    Single\n",
       "CitizenDesc                                US Citizen\n",
       "HispanicLatino                                     No\n",
       "RaceDesc                                        White\n",
       "DateofHire                                  2/21/2011\n",
       "DateofTermination                            8/4/2017\n",
       "TermReason                                 attendance\n",
       "EmploymentStatus                 Terminated for Cause\n",
       "Department                          Production       \n",
       "ManagerName                             Kelley Spirea\n",
       "ManagerID                                        18.0\n",
       "RecruitmentSource                       Google Search\n",
       "PerformanceScore                          Fully Meets\n",
       "EngagementSurvey                                  5.0\n",
       "EmpSatisfaction                                     4\n",
       "SpecialProjectsCount                                0\n",
       "LastPerformanceReview_Date                   4/5/2017\n",
       "DaysLateLast30                                      0\n",
       "Absences                                           20\n",
       "Name: 15, dtype: object"
      ]
     },
     "execution_count": 16,
     "metadata": {},
     "output_type": "execute_result"
    }
   ],
   "source": [
    "# get employe who have max Absences in dataset\n",
    "data.iloc[data['Absences'].idxmax()]"
   ]
  },
  {
   "cell_type": "code",
   "execution_count": 18,
   "metadata": {},
   "outputs": [
    {
     "data": {
      "text/plain": [
       "Employee_Name                      Delarge, Alex\n",
       "EmpID                                      10306\n",
       "MarriedID                                      0\n",
       "MaritalStatusID                                0\n",
       "GenderID                                       1\n",
       "EmpStatusID                                    1\n",
       "DeptID                                         6\n",
       "PerfScoreID                                    1\n",
       "FromDiversityJobFairID                         0\n",
       "Salary                                     61568\n",
       "Termd                                          0\n",
       "PositionID                                     3\n",
       "Position                      Area Sales Manager\n",
       "State                                         AL\n",
       "Zip                                        36006\n",
       "DOB                                     11/02/75\n",
       "Sex                                           M \n",
       "MaritalDesc                               Single\n",
       "CitizenDesc                           US Citizen\n",
       "HispanicLatino                                No\n",
       "RaceDesc                       Two or more races\n",
       "DateofHire                             9/29/2014\n",
       "DateofTermination                            NaN\n",
       "TermReason                     N/A-StillEmployed\n",
       "EmploymentStatus                          Active\n",
       "Department                                 Sales\n",
       "ManagerName                           John Smith\n",
       "ManagerID                                   17.0\n",
       "RecruitmentSource                         Indeed\n",
       "PerformanceScore                             PIP\n",
       "EngagementSurvey                            1.93\n",
       "EmpSatisfaction                                3\n",
       "SpecialProjectsCount                           0\n",
       "LastPerformanceReview_Date             1/30/2019\n",
       "DaysLateLast30                                 6\n",
       "Absences                                       5\n",
       "Name: 67, dtype: object"
      ]
     },
     "execution_count": 18,
     "metadata": {},
     "output_type": "execute_result"
    }
   ],
   "source": [
    "# get employe who have max DaysLateLast30 in dataset\n",
    "data.iloc[data['DaysLateLast30'].idxmax()]"
   ]
  },
  {
   "cell_type": "code",
   "execution_count": 19,
   "metadata": {},
   "outputs": [
    {
     "data": {
      "text/plain": [
       "Employee_Name                     Adinolfi, Wilson  K\n",
       "EmpID                                           10026\n",
       "MarriedID                                           0\n",
       "MaritalStatusID                                     0\n",
       "GenderID                                            1\n",
       "EmpStatusID                                         1\n",
       "DeptID                                              5\n",
       "PerfScoreID                                         4\n",
       "FromDiversityJobFairID                              0\n",
       "Salary                                          62506\n",
       "Termd                                               0\n",
       "PositionID                                         19\n",
       "Position                      Production Technician I\n",
       "State                                              MA\n",
       "Zip                                              1960\n",
       "DOB                                          07/10/83\n",
       "Sex                                                M \n",
       "MaritalDesc                                    Single\n",
       "CitizenDesc                                US Citizen\n",
       "HispanicLatino                                     No\n",
       "RaceDesc                                        White\n",
       "DateofHire                                   7/5/2011\n",
       "DateofTermination                                 NaN\n",
       "TermReason                          N/A-StillEmployed\n",
       "EmploymentStatus                               Active\n",
       "Department                          Production       \n",
       "ManagerName                            Michael Albert\n",
       "ManagerID                                        22.0\n",
       "RecruitmentSource                            LinkedIn\n",
       "PerformanceScore                              Exceeds\n",
       "EngagementSurvey                                  4.6\n",
       "EmpSatisfaction                                     5\n",
       "SpecialProjectsCount                                0\n",
       "LastPerformanceReview_Date                  1/17/2019\n",
       "DaysLateLast30                                      0\n",
       "Absences                                            1\n",
       "Name: 0, dtype: object"
      ]
     },
     "execution_count": 19,
     "metadata": {},
     "output_type": "execute_result"
    }
   ],
   "source": [
    "# get employe who have min DaysLateLast30 in dataset\n",
    "data.iloc[data['DaysLateLast30'].idxmin()]"
   ]
  },
  {
   "cell_type": "code",
   "execution_count": 21,
   "metadata": {},
   "outputs": [
    {
     "data": {
      "text/plain": [
       "Production Technician I         137\n",
       "Production Technician II         57\n",
       "Area Sales Manager               27\n",
       "Production Manager               14\n",
       "Software Engineer                10\n",
       "IT Support                        8\n",
       "Data Analyst                      7\n",
       "Sr. Network Engineer              5\n",
       "Database Administrator            5\n",
       "Network Engineer                  5\n",
       "BI Developer                      4\n",
       "Senior BI Developer               3\n",
       "Administrative Assistant          3\n",
       "Sales Manager                     3\n",
       "Accountant I                      3\n",
       "Sr. Accountant                    2\n",
       "IT Manager - DB                   2\n",
       "Sr. DBA                           2\n",
       "Director of Operations            1\n",
       "Shared Services Manager           1\n",
       "Data Analyst                      1\n",
       "Data Architect                    1\n",
       "Principal Data Architect          1\n",
       "IT Manager - Infra                1\n",
       "President & CEO                   1\n",
       "Enterprise Architect              1\n",
       "BI Director                       1\n",
       "Director of Sales                 1\n",
       "IT Director                       1\n",
       "IT Manager - Support              1\n",
       "Software Engineering Manager      1\n",
       "CIO                               1\n",
       "Name: Position, dtype: int64"
      ]
     },
     "execution_count": 21,
     "metadata": {},
     "output_type": "execute_result"
    }
   ],
   "source": [
    "#get all positions in data set\n",
    "data['Position'].value_counts().sort_values(ascending=False)"
   ]
  },
  {
   "cell_type": "code",
   "execution_count": 22,
   "metadata": {},
   "outputs": [
    {
     "data": {
      "text/plain": [
       "Indeed                     87\n",
       "LinkedIn                   76\n",
       "Google Search              49\n",
       "Employee Referral          31\n",
       "Diversity Job Fair         29\n",
       "CareerBuilder              23\n",
       "Website                    13\n",
       "Other                       2\n",
       "On-line Web application     1\n",
       "Name: RecruitmentSource, dtype: int64"
      ]
     },
     "execution_count": 22,
     "metadata": {},
     "output_type": "execute_result"
    }
   ],
   "source": [
    "#get all recuritmentsource of these job\n",
    "data['RecruitmentSource'].value_counts()"
   ]
  },
  {
   "cell_type": "code",
   "execution_count": 23,
   "metadata": {},
   "outputs": [
    {
     "data": {
      "text/plain": [
       "F     176\n",
       "M     135\n",
       "Name: Sex, dtype: int64"
      ]
     },
     "execution_count": 23,
     "metadata": {},
     "output_type": "execute_result"
    }
   ],
   "source": [
    "# get all gender in data set\n",
    "data['Sex'].value_counts()"
   ]
  },
  {
   "attachments": {},
   "cell_type": "markdown",
   "metadata": {},
   "source": [
    "Bar chat"
   ]
  },
  {
   "cell_type": "code",
   "execution_count": 26,
   "metadata": {},
   "outputs": [
    {
     "data": {
      "text/plain": [
       "<AxesSubplot:>"
      ]
     },
     "execution_count": 26,
     "metadata": {},
     "output_type": "execute_result"
    },
    {
     "data": {
      "image/png": "[encoded data removed]",
      "text/plain": [
       "<Figure size 640x480 with 1 Axes>"
      ]
     },
     "metadata": {},
     "output_type": "display_data"
    }
   ],
   "source": [
    "# Draw a bar graph of Gender\n",
    "data['Sex'].value_counts().plot(kind=\"bar\")"
   ]
  },
  {
   "cell_type": "code",
   "execution_count": 28,
   "metadata": {},
   "outputs": [
    {
     "data": {
      "text/plain": [
       "<AxesSubplot:>"
      ]
     },
     "execution_count": 28,
     "metadata": {},
     "output_type": "execute_result"
    },
    {
     "data": {
      "image/png": "[encoded data removed]",
      "text/plain": [
       "<Figure size 640x480 with 1 Axes>"
      ]
     },
     "metadata": {},
     "output_type": "display_data"
    }
   ],
   "source": [
    "# Draw a bar graph of RaceDesc\n",
    "data['RaceDesc'].value_counts().plot(kind='bar')"
   ]
  },
  {
   "attachments": {},
   "cell_type": "markdown",
   "metadata": {},
   "source": [
    "Pie Chart"
   ]
  },
  {
   "cell_type": "code",
   "execution_count": 32,
   "metadata": {},
   "outputs": [],
   "source": [
    "#get recruitment source \n",
    "recruitmentlabels = data['RecruitmentSource'].unique()"
   ]
  },
  {
   "cell_type": "code",
   "execution_count": 33,
   "metadata": {},
   "outputs": [
    {
     "data": {
      "text/plain": [
       "array(['LinkedIn', 'Indeed', 'Google Search', 'Employee Referral',\n",
       "       'Diversity Job Fair', 'On-line Web application', 'CareerBuilder',\n",
       "       'Website', 'Other'], dtype=object)"
      ]
     },
     "execution_count": 33,
     "metadata": {},
     "output_type": "execute_result"
    }
   ],
   "source": [
    "recruitmentlabels"
   ]
  },
  {
   "cell_type": "code",
   "execution_count": 34,
   "metadata": {},
   "outputs": [
    {
     "data": {
      "text/plain": [
       "([<matplotlib.patches.Wedge at 0x1a4ae821000>,\n",
       "  <matplotlib.patches.Wedge at 0x1a4ae821450>,\n",
       "  <matplotlib.patches.Wedge at 0x1a4ae821930>,\n",
       "  <matplotlib.patches.Wedge at 0x1a4ae821e10>,\n",
       "  <matplotlib.patches.Wedge at 0x1a4ae8222f0>,\n",
       "  <matplotlib.patches.Wedge at 0x1a4ae822830>,\n",
       "  <matplotlib.patches.Wedge at 0x1a4ae822d10>,\n",
       "  <matplotlib.patches.Wedge at 0x1a4ae8231f0>,\n",
       "  <matplotlib.patches.Wedge at 0x1a4ae8236d0>],\n",
       " [Text(0.7018510671454418, 0.8469976856797218, 'LinkedIn'),\n",
       "  Text(-0.8976907571044195, 0.6357289553019388, 'Indeed'),\n",
       "  Text(-0.8780158070178963, -0.6626373386904126, 'Google Search'),\n",
       "  Text(-0.12749774600621597, -1.0925860720159921, 'Employee Referral'),\n",
       "  Text(0.5176175152773898, -0.9706039912745369, 'Diversity Job Fair'),\n",
       "  Text(0.9345500324709828, -0.5801863810953211, 'On-line Web application'),\n",
       "  Text(1.079801690820202, -0.20982923652778504, 'CareerBuilder'),\n",
       "  Text(1.0991021551869509, -0.04443481139151713, 'Website'),\n",
       "  Text(1.0999438780286555, -0.011111488976838432, 'Other')])"
      ]
     },
     "execution_count": 34,
     "metadata": {},
     "output_type": "execute_result"
    },
    {
     "data": {
      "image/png": "[encoded data removed]",
      "text/plain": [
       "<Figure size 640x480 with 1 Axes>"
      ]
     },
     "metadata": {},
     "output_type": "display_data"
    }
   ],
   "source": [
    "# draw a pie chart\n",
    "plt.pie(data['RecruitmentSource'].value_counts(),labels=recruitmentlabels)"
   ]
  },
  {
   "cell_type": "code",
   "execution_count": 36,
   "metadata": {},
   "outputs": [
    {
     "data": {
      "text/plain": [
       "Index(['Employee_Name', 'EmpID', 'MarriedID', 'MaritalStatusID', 'GenderID',\n",
       "       'EmpStatusID', 'DeptID', 'PerfScoreID', 'FromDiversityJobFairID',\n",
       "       'Salary', 'Termd', 'PositionID', 'Position', 'State', 'Zip', 'DOB',\n",
       "       'Sex', 'MaritalDesc', 'CitizenDesc', 'HispanicLatino', 'RaceDesc',\n",
       "       'DateofHire', 'DateofTermination', 'TermReason', 'EmploymentStatus',\n",
       "       'Department', 'ManagerName', 'ManagerID', 'RecruitmentSource',\n",
       "       'PerformanceScore', 'EngagementSurvey', 'EmpSatisfaction',\n",
       "       'SpecialProjectsCount', 'LastPerformanceReview_Date', 'DaysLateLast30',\n",
       "       'Absences'],\n",
       "      dtype='object')"
      ]
     },
     "execution_count": 36,
     "metadata": {},
     "output_type": "execute_result"
    }
   ],
   "source": [
    "#get all columns of the data set\n",
    "data.columns"
   ]
  },
  {
   "cell_type": "code",
   "execution_count": 38,
   "metadata": {},
   "outputs": [
    {
     "data": {
      "text/plain": [
       "([<matplotlib.patches.Wedge at 0x1a4ae882350>,\n",
       "  <matplotlib.patches.Wedge at 0x1a4ae882830>,\n",
       "  <matplotlib.patches.Wedge at 0x1a4ae882d10>,\n",
       "  <matplotlib.patches.Wedge at 0x1a4ae8831f0>],\n",
       " [Text(-0.8505317686517995, 0.697564126452932, 'Exceeds'),\n",
       "  Text(0.5942800119607902, -0.9256518067739529, 'Fully Meets'),\n",
       "  Text(0.993122733496463, -0.4729769933226281, 'Needs Improvement'),\n",
       "  Text(1.0905288316440482, -0.14403772892220723, 'PIP')])"
      ]
     },
     "execution_count": 38,
     "metadata": {},
     "output_type": "execute_result"
    },
    {
     "data": {
      "image/png": "[encoded data removed]",
      "text/plain": [
       "<Figure size 640x480 with 1 Axes>"
      ]
     },
     "metadata": {},
     "output_type": "display_data"
    }
   ],
   "source": [
    "performancelables =data['PerformanceScore'].unique()\n",
    "# draw a pie chart\n",
    "plt.pie(data['PerformanceScore'].value_counts(),labels=performancelables)"
   ]
  }
 ],
 "metadata": {
  "kernelspec": {
   "display_name": "jazz",
   "language": "python",
   "name": "python3"
  },
  "language_info": {
   "codemirror_mode": {
    "name": "ipython",
    "version": 3
   },
   "file_extension": ".py",
   "mimetype": "text/x-python",
   "name": "python",
   "nbconvert_exporter": "python",
   "pygments_lexer": "ipython3",
   "version": "3.10.8"
  },
  "orig_nbformat": 4,
  "vscode": {
   "interpreter": {
    "hash": "836c7a803e62df638fdb1bd403a0bb0c86242d4bee87d0bafcdb520cf7232eeb"
   }
  }
 },
 "nbformat": 4,
 "nbformat_minor": 2
}
